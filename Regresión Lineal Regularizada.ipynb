{
 "cells": [
  {
   "cell_type": "code",
   "execution_count": 1,
   "metadata": {},
   "outputs": [],
   "source": [
    "import random"
   ]
  },
  {
   "cell_type": "code",
   "execution_count": 2,
   "metadata": {},
   "outputs": [],
   "source": [
    "import numpy as np"
   ]
  },
  {
   "cell_type": "code",
   "execution_count": 3,
   "metadata": {},
   "outputs": [],
   "source": [
    "from module import *"
   ]
  },
  {
   "cell_type": "code",
   "execution_count": 4,
   "metadata": {},
   "outputs": [],
   "source": [
    "from matplotlib import pyplot as plt"
   ]
  },
  {
   "cell_type": "code",
   "execution_count": 5,
   "metadata": {},
   "outputs": [],
   "source": [
    "data = np.loadtxt('Admission_Predict.csv',delimiter=\",\", skiprows=1)[:,1:]"
   ]
  },
  {
   "cell_type": "markdown",
   "metadata": {},
   "source": [
    "Se normalizarán los datos para tener una escala más uniforme y un mejor modelo. "
   ]
  },
  {
   "cell_type": "code",
   "execution_count": 6,
   "metadata": {},
   "outputs": [],
   "source": [
    "#normalización de data \n",
    "norm_t_set = np.array([np.zeros(len(data))])\n",
    "for arr in data.T:\n",
    "    norm_tuple = []\n",
    "    for index in range(len(arr)):\n",
    "        norm_tuple.append((arr[index] - arr.min())/ (arr.max()- arr.min()))\n",
    "    norm_t_set = np.vstack((norm_t_set, np.array(norm_tuple)))\n",
    "data = norm_t_set[1:,]\n",
    "data = data.T"
   ]
  },
  {
   "cell_type": "markdown",
   "metadata": {},
   "source": [
    "Separación de data en sets de training, cross validation y testing. La separación se realizará mediante índices aleatorios sin repetir, y la data será repartida de 60% (240 datos) para el training set, 20% (80 datos) para el cross validation set y 20% (80 datos) para el test set."
   ]
  },
  {
   "cell_type": "code",
   "execution_count": 7,
   "metadata": {},
   "outputs": [],
   "source": [
    "# Seleccionar conjunto de training y test\n",
    "\n",
    "t_set = np.zeros(8).reshape((1,8))\n",
    "cv_set = np.zeros(8).reshape((1,8))\n",
    "test = np.zeros(8).reshape((1,8))\n",
    "func = [t_set, cv_set, test]\n",
    "perc = [240, 80, 80]\n",
    "t_rand = []\n",
    "for x in range(3):\n",
    "    while(len(func[x]) < perc[x]+1):\n",
    "        r = random.randint(0,399)\n",
    "        if r not in t_rand: \n",
    "            t_rand.append(r)\n",
    "            func[x] = np.concatenate((func[x], data[r].reshape((1,8))))\n",
    "            \n",
    "t_set, cv_set, test = func[0][1:,], func[1][1:,], func[2][1:,]"
   ]
  },
  {
   "cell_type": "markdown",
   "metadata": {},
   "source": [
    "## Establecimiento de modelo \n",
    "\n",
    "Para el modelo, se tomarán todos los features del dataset, exceptuando el Serial No. (ya que no tiene correlación alguna con la variable de Chance of Admit ni provee información útil."
   ]
  },
  {
   "cell_type": "code",
   "execution_count": 8,
   "metadata": {},
   "outputs": [],
   "source": [
    "y = t_set[:,len(t_set[0])-1:len(t_set[0])]\n",
    "\n",
    "X = np.vstack((\n",
    "    np.ones(len(t_set)),\n",
    "    t_set[:,:7].T,\n",
    ")).T"
   ]
  },
  {
   "cell_type": "code",
   "execution_count": 9,
   "metadata": {},
   "outputs": [],
   "source": [
    "m, n = X.shape"
   ]
  },
  {
   "cell_type": "markdown",
   "metadata": {},
   "source": [
    "Generación de de vector theta inicial; después de múltiples generaciones aleatorias del vector theta_0, el vector que daba los mejores resultados es el siguiente:"
   ]
  },
  {
   "cell_type": "code",
   "execution_count": 10,
   "metadata": {},
   "outputs": [],
   "source": [
    "theta_0 = np.array([[-0.06706054],\n",
    " [ 0.21327747],\n",
    " [-0.19349977],\n",
    " [ 0.10454866],\n",
    " [-0.06015129],\n",
    " [ 0.28915204],\n",
    " [ 0.27315269],\n",
    " [-0.00179598]])"
   ]
  },
  {
   "cell_type": "code",
   "execution_count": 12,
   "metadata": {},
   "outputs": [],
   "source": [
    "#Cálculo de descenso al gradiente\n",
    "theta = gradient_descent(\n",
    "    X,\n",
    "    y,\n",
    "    theta_0,\n",
    "    linear_cost_regular,\n",
    "    linear_cost_derivate_regular,\n",
    "    alpha=0.001,\n",
    "    threshold=0.001,\n",
    "    max_iter= 300000,\n",
    "    lamda=0\n",
    ")"
   ]
  },
  {
   "cell_type": "code",
   "execution_count": 13,
   "metadata": {},
   "outputs": [],
   "source": [
    "y_predic = np.matmul(X, theta)"
   ]
  },
  {
   "cell_type": "code",
   "execution_count": 14,
   "metadata": {},
   "outputs": [
    {
     "data": {
      "text/plain": [
       "0.8073937589533833"
      ]
     },
     "execution_count": 14,
     "metadata": {},
     "output_type": "execute_result"
    }
   ],
   "source": [
    "#Cálculo de coeficiente de determinación (R^2) para saber qué tan bueno fue el fit del modelo. \n",
    "\n",
    "r2_t = (((y-y.mean())**2).sum()-((np.matmul(X, theta)-y)**2).sum())/((y-y.mean())**2).sum()\n",
    "r2_t"
   ]
  },
  {
   "cell_type": "code",
   "execution_count": 15,
   "metadata": {},
   "outputs": [
    {
     "data": {
      "text/plain": [
       "0.011113734056933661"
      ]
     },
     "execution_count": 15,
     "metadata": {},
     "output_type": "execute_result"
    }
   ],
   "source": [
    "#Cálculo de Error Cuadrático Medio para saber qué tanto se equivocó el modelo \n",
    "ecm_t = (1/len(t_set))*((y_predic-y)**2).sum()\n",
    "ecm_t"
   ]
  },
  {
   "cell_type": "markdown",
   "metadata": {},
   "source": [
    "En la siguiente gráfica se ejemplifica qué tan parecido fue la predicción del modelo, al valor real de Chance of Admit. Se establecerá un feature cualquiera en el eje X (se tomó la feature de GRE Score,, porque lo que interesa es ver cómo se plotean los puntos en el eje Y."
   ]
  },
  {
   "cell_type": "code",
   "execution_count": 173,
   "metadata": {},
   "outputs": [
    {
     "data": {
      "image/png": "[encoded data removed]",
      "text/plain": [
       "<Figure size 432x288 with 1 Axes>"
      ]
     },
     "metadata": {
      "needs_background": "light"
     },
     "output_type": "display_data"
    }
   ],
   "source": [
    "plt.scatter(X[:, 1], y)\n",
    "plt.scatter(X[:, 1], y_predic, color='red')\n",
    "plt.title('Scatter plot GRE Score vs. Chance of Admit')\n",
    "plt.xlabel('Chance of Admit')\n",
    "plt.ylabel('GRE Score')\n",
    "plt.show()"
   ]
  },
  {
   "cell_type": "markdown",
   "metadata": {},
   "source": [
    "## Cross-Validation\n",
    "Después de obtener el theta que mejor resultados brinda, se realizan las pruebas con el cross-validation set para tunear de mejor manera el modelo. "
   ]
  },
  {
   "cell_type": "code",
   "execution_count": 100,
   "metadata": {},
   "outputs": [],
   "source": [
    "#Generación de modelo para los datos del set de cross validation\n",
    "cv_x = np.vstack((\n",
    "    np.ones(len(cv_set)),\n",
    "    cv_set[:,:7].T\n",
    ")).T\n",
    "\n",
    "\n",
    "cv_y = cv_set[:,len(cv_set[0])-1:len(cv_set[0])]"
   ]
  },
  {
   "cell_type": "code",
   "execution_count": 101,
   "metadata": {},
   "outputs": [],
   "source": [
    "#descenso al gradiente para datos del CV set. \n",
    "theta = gradient_descent(\n",
    "    cv_x,\n",
    "    cv_y,\n",
    "    theta_0,\n",
    "    linear_cost_regular,\n",
    "    linear_cost_derivate_regular,\n",
    "    alpha=0.001,\n",
    "    threshold=0.001,\n",
    "    max_iter= 300000,\n",
    "    lamda=0\n",
    ")"
   ]
  },
  {
   "cell_type": "code",
   "execution_count": 102,
   "metadata": {},
   "outputs": [
    {
     "data": {
      "text/plain": [
       "0.7698726856780918"
      ]
     },
     "execution_count": 102,
     "metadata": {},
     "output_type": "execute_result"
    }
   ],
   "source": [
    "#Cálculo de coeficiente de determinación (R^2)\n",
    "r2_cv = (((cv_y-cv_y.mean())**2).sum()-((np.matmul(cv_x, theta)-cv_y)**2).sum())/((cv_y-cv_y.mean())**2).sum()\n",
    "r2_cv"
   ]
  },
  {
   "cell_type": "code",
   "execution_count": 103,
   "metadata": {},
   "outputs": [
    {
     "data": {
      "text/plain": [
       "0.009107249326991166"
      ]
     },
     "execution_count": 103,
     "metadata": {},
     "output_type": "execute_result"
    }
   ],
   "source": [
    "#Error Cuadrático Medio\n",
    "ecm = (1/len(cv_set))*((np.matmul(cv_x, theta)-cv_y)**2).sum()\n",
    "ecm"
   ]
  },
  {
   "cell_type": "markdown",
   "metadata": {},
   "source": [
    "Similar a lo realizado para el set de datos para training, se graficará la predicción vs el valor real estableciendo en el eje X un feature cualquiera del modelo. "
   ]
  },
  {
   "cell_type": "code",
   "execution_count": 172,
   "metadata": {},
   "outputs": [
    {
     "data": {
      "image/png": "[encoded data removed]",
      "text/plain": [
       "<Figure size 432x288 with 1 Axes>"
      ]
     },
     "metadata": {
      "needs_background": "light"
     },
     "output_type": "display_data"
    }
   ],
   "source": [
    "plt.scatter(cv_x[:, 1], cv_y)\n",
    "plt.scatter(cv_x[:, 1], np.matmul(cv_x, theta), color='red')\n",
    "plt.title('Scatter plot GRE Score vs. Chance of Admit')\n",
    "plt.xlabel('Chance of Admit')\n",
    "plt.ylabel('GRE Score')\n",
    "plt.show()"
   ]
  },
  {
   "cell_type": "markdown",
   "metadata": {},
   "source": [
    "## Regularización del modelo \n",
    "\n",
    "Con los resultados de R^2 y el Error Cuadrático Medio obtenidos previamente se puede observar que el modelo funciona bastante bien con el set de datos de cross validation. Aún así, se presentarán las gráficas de costo vs. complejidad del modelo y costo vs. lambda para observar si es posible encontrar un mejor modelo. Se definirá como complejidad a la cantidad de features incluídas en el modelo, hasta ahora se ha trabajado con una complejidad de 7. "
   ]
  },
  {
   "cell_type": "code",
   "execution_count": 27,
   "metadata": {},
   "outputs": [],
   "source": [
    "#ECM para datos de training\n",
    "t_ecm = np.array([])\n",
    "t_lamdas = np.linspace(-15, 30, 15)\n",
    "\n",
    "#iteración para obtener ECM con distintos valores de lambda\n",
    "for l in t_lamdas:\n",
    "    theta = gradient_descent(\n",
    "        X,\n",
    "        y,\n",
    "        theta_0,\n",
    "        linear_cost_regular,\n",
    "        linear_cost_derivate_regular,\n",
    "        alpha=0.001,\n",
    "        threshold=0.001,\n",
    "        max_iter=30000,\n",
    "        lamda=l)\n",
    "    ecm = (1/len(t_set))*((np.matmul(X, theta)-y)**2).sum()\n",
    "    t_ecm = np.append(t_ecm, ecm)"
   ]
  },
  {
   "cell_type": "code",
   "execution_count": 28,
   "metadata": {},
   "outputs": [],
   "source": [
    "#ECM para datos de cross validation\n",
    "cv_ecm = np.array([])\n",
    "cv_lamdas = np.linspace(-15, 30, 15)\n",
    "\n",
    "for l in cv_lamdas:\n",
    "    theta = gradient_descent(\n",
    "        cv_x,\n",
    "        cv_y,\n",
    "        theta_0,\n",
    "        linear_cost_regular,\n",
    "        linear_cost_derivate_regular,\n",
    "        alpha=0.001,\n",
    "        threshold=0.001,\n",
    "        max_iter=30000,\n",
    "        lamda=l)\n",
    "    ecm = (1/len(cv_set))*((np.matmul(cv_x, theta)-cv_y)**2).sum()\n",
    "    cv_ecm = np.append(cv_ecm, ecm)"
   ]
  },
  {
   "cell_type": "code",
   "execution_count": 29,
   "metadata": {},
   "outputs": [
    {
     "data": {
      "image/png": "[encoded data removed]",
      "text/plain": [
       "<Figure size 432x288 with 1 Axes>"
      ]
     },
     "metadata": {
      "needs_background": "light"
     },
     "output_type": "display_data"
    }
   ],
   "source": [
    "plt.scatter(t_lamdas, t_ecm, color='green')\n",
    "plt.scatter(cv_lamdas, cv_ecm, color='orange')\n",
    "plt.show()"
   ]
  },
  {
   "cell_type": "markdown",
   "metadata": {},
   "source": [
    "#### Se volverán a realizar las gráficas anteriores para poder observar de mejor manera cuál es el lambda más óptimo: "
   ]
  },
  {
   "cell_type": "code",
   "execution_count": 43,
   "metadata": {},
   "outputs": [],
   "source": [
    "#ECM para datos de training\n",
    "t_ecm = np.array([])\n",
    "t_lamdas = np.linspace(0, 15, 10)\n",
    "\n",
    "for l in t_lamdas:\n",
    "    theta = gradient_descent(\n",
    "        X,\n",
    "        y,\n",
    "        theta_0,\n",
    "        linear_cost_regular,\n",
    "        linear_cost_derivate_regular,\n",
    "        alpha=0.001,\n",
    "        threshold=0.001,\n",
    "        max_iter=30000,\n",
    "        lamda=l)\n",
    "    ecm = (1/len(t_set))*((np.matmul(X, theta)-y)**2).sum()\n",
    "    t_ecm = np.append(t_ecm, ecm)"
   ]
  },
  {
   "cell_type": "code",
   "execution_count": 44,
   "metadata": {},
   "outputs": [],
   "source": [
    "#ECM para datos de cross validation\n",
    "cv_ecm = np.array([])\n",
    "cv_lamdas = np.linspace(0, 15, 10)\n",
    "\n",
    "for l in cv_lamdas:\n",
    "    theta = gradient_descent(\n",
    "        cv_x,\n",
    "        cv_y,\n",
    "        theta_0,\n",
    "        linear_cost_regular,\n",
    "        linear_cost_derivate_regular,\n",
    "        alpha=0.001,\n",
    "        threshold=0.001,\n",
    "        max_iter=30000,\n",
    "        lamda=l)\n",
    "    ecm = (1/len(cv_set))*((np.matmul(cv_x, theta)-cv_y)**2).sum()\n",
    "    cv_ecm = np.append(cv_ecm, ecm)"
   ]
  },
  {
   "cell_type": "code",
   "execution_count": 45,
   "metadata": {},
   "outputs": [
    {
     "data": {
      "image/png": "[encoded data removed]",
      "text/plain": [
       "<Figure size 432x288 with 1 Axes>"
      ]
     },
     "metadata": {
      "needs_background": "light"
     },
     "output_type": "display_data"
    }
   ],
   "source": [
    "plt.scatter(t_lamdas, t_ecm, color='green')\n",
    "plt.scatter(cv_lamdas, cv_ecm, color='orange')\n",
    "plt.show()"
   ]
  },
  {
   "cell_type": "markdown",
   "metadata": {},
   "source": [
    "Con la gráfica anterior se puede observar que el lambda más óptimo es de alrededor 8. Verificaremos si sí se logra mejorar la predicción. "
   ]
  },
  {
   "cell_type": "code",
   "execution_count": 163,
   "metadata": {},
   "outputs": [],
   "source": [
    "#modificacion de lambda para mejores resultados \n",
    "theta = gradient_descent(\n",
    "    cv_x,\n",
    "    cv_y,\n",
    "    theta_0,\n",
    "    linear_cost_regular,\n",
    "    linear_cost_derivate_regular,\n",
    "    alpha=0.001,\n",
    "    threshold=0.001,\n",
    "    max_iter=30000,\n",
    "    lamda=0.01)"
   ]
  },
  {
   "cell_type": "code",
   "execution_count": 164,
   "metadata": {},
   "outputs": [
    {
     "data": {
      "text/plain": [
       "0.7710520707936307"
      ]
     },
     "execution_count": 164,
     "metadata": {},
     "output_type": "execute_result"
    }
   ],
   "source": [
    "r2 = (((cv_y-cv_y.mean())**2).sum()-((np.matmul(cv_x, theta)-cv_y)**2).sum())/((cv_y-cv_y.mean())**2).sum()\n",
    "r2"
   ]
  },
  {
   "cell_type": "code",
   "execution_count": 165,
   "metadata": {},
   "outputs": [
    {
     "data": {
      "text/plain": [
       "0.00906057536161942"
      ]
     },
     "execution_count": 165,
     "metadata": {},
     "output_type": "execute_result"
    }
   ],
   "source": [
    "#Error Cuadrático Medio\n",
    "ecm = (1/len(cv_set))*((np.matmul(cv_x, theta)-cv_y)**2).sum()\n",
    "ecm"
   ]
  },
  {
   "cell_type": "markdown",
   "metadata": {},
   "source": [
    "Como se puede ver, la regularización sí logró la mejora del modelo, aunque no haya sido por mucho. El lambda escogido fue pequeño ya que, como se ve en la gráfica anterior, conforme va creciendo también crece el error del modelo, por lo que un lambda muy pequeño da mejores resultados que sin la regularización, a pesar que éste sea cercano a 0. "
   ]
  },
  {
   "cell_type": "markdown",
   "metadata": {},
   "source": [
    "## Testing\n",
    "\n",
    "A continuación, luego de haber obtenido un descenso al gradiente relativamente satisfactorio con el modelo establecido, se procederá a usar el mismo con el set de testing, y ver los resultados. "
   ]
  },
  {
   "cell_type": "code",
   "execution_count": 167,
   "metadata": {},
   "outputs": [],
   "source": [
    "x_test = np.vstack((\n",
    "    np.ones(len(test)),\n",
    "    test[:,:7].T\n",
    ")).T\n",
    "\n",
    "\n",
    "y_test = test[:,len(test[0])-1:len(test[0])]"
   ]
  },
  {
   "cell_type": "code",
   "execution_count": 168,
   "metadata": {},
   "outputs": [
    {
     "data": {
      "text/plain": [
       "0.8108761286939817"
      ]
     },
     "execution_count": 168,
     "metadata": {},
     "output_type": "execute_result"
    }
   ],
   "source": [
    "#Cálculo de coeficiente de determinación (R^2)\n",
    "r2_test = (((y_test-y_test.mean())**2).sum()-((np.matmul(x_test, theta)-y_test)**2).sum())/((y_test-y_test.mean())**2).sum()\n",
    "r2_test"
   ]
  },
  {
   "cell_type": "code",
   "execution_count": 169,
   "metadata": {},
   "outputs": [
    {
     "data": {
      "text/plain": [
       "0.007925123789411176"
      ]
     },
     "execution_count": 169,
     "metadata": {},
     "output_type": "execute_result"
    }
   ],
   "source": [
    "#Error Cuadrático Medio\n",
    "ecm = (1/len(test))*((np.matmul(x_test, theta)-y_test)**2).sum()\n",
    "ecm"
   ]
  },
  {
   "cell_type": "code",
   "execution_count": 171,
   "metadata": {},
   "outputs": [
    {
     "data": {
      "image/png": "[encoded data removed]",
      "text/plain": [
       "<Figure size 432x288 with 1 Axes>"
      ]
     },
     "metadata": {
      "needs_background": "light"
     },
     "output_type": "display_data"
    }
   ],
   "source": [
    "plt.scatter(x_test[:, 1], y_test)\n",
    "plt.scatter(x_test[:, 1], np.matmul(x_test, theta), color='red')\n",
    "plt.title('Scatter plot GRE Score vs. Chance of Admit')\n",
    "plt.xlabel('Chance of Admit')\n",
    "plt.ylabel('GRE Score')\n",
    "plt.show()"
   ]
  },
  {
   "cell_type": "markdown",
   "metadata": {},
   "source": [
    "## Conclusión\n",
    "\n",
    "Con los resultados anteriores se observa que el modelo logró una predicción relativamente buena para los datos del set de testing. Se fundamenta el desempeño del modelo al observar el coeficiente de determinación (R^2) - el cual determina qué tan buen ajuste proveyó al modelo con la tendencia de los datos - calculado es bastante alto (0.81 para el set de test) e incluso el Error Cuadrático Medio - el cual estima la diferencia entre el estimador y lo que se estima - es bastante cercano a 0, lo que quiere decir que el promedio de error fue muy bajo. \n",
    "\n",
    "Adicionalmente, en el último scatter plot se visualiza gráficamente que las predicciones realizadas se ajustaron bastante bien a la nube de puntos de los valores reales. "
   ]
  }
 ],
 "metadata": {
  "kernelspec": {
   "display_name": "Python 3",
   "language": "python",
   "name": "python3"
  },
  "language_info": {
   "codemirror_mode": {
    "name": "ipython",
    "version": 3
   },
   "file_extension": ".py",
   "mimetype": "text/x-python",
   "name": "python",
   "nbconvert_exporter": "python",
   "pygments_lexer": "ipython3",
   "version": "3.7.2"
  }
 },
 "nbformat": 4,
 "nbformat_minor": 4
}
