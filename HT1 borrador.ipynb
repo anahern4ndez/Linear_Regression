{
 "cells": [
  {
   "cell_type": "code",
   "execution_count": 43,
   "metadata": {},
   "outputs": [],
   "source": [
    "import numpy as np"
   ]
  },
  {
   "cell_type": "code",
   "execution_count": 44,
   "metadata": {},
   "outputs": [],
   "source": [
    "from module import *"
   ]
  },
  {
   "cell_type": "code",
   "execution_count": 45,
   "metadata": {},
   "outputs": [],
   "source": [
    "from matplotlib import pyplot as plt"
   ]
  },
  {
   "cell_type": "code",
   "execution_count": 46,
   "metadata": {},
   "outputs": [],
   "source": [
    "data = np.loadtxt('Admission_Predict.csv',delimiter=\",\", skiprows=1)"
   ]
  },
  {
   "cell_type": "code",
   "execution_count": 47,
   "metadata": {},
   "outputs": [],
   "source": [
    "#training set\n",
    "t_set = data[:240,]\n",
    "#cross validation set\n",
    "cv_set = data[240:320,] \n",
    "#test set\n",
    "test = data[320:,]"
   ]
  },
  {
   "cell_type": "code",
   "execution_count": 135,
   "metadata": {},
   "outputs": [],
   "source": [
    "#slice de data entre matriz de features y vector de variable a predecir\n",
    "#se excluye columna de Serial No. \n",
    "#X,y = t_set[:,1:len(t_set[0])-1], t_set[:,len(t_set[0])-1:len(t_set[0])],\n",
    "#X,y = t_set[:,1], t_set[:,len(t_set[0])-1:len(t_set[0])]\n",
    "X, y = np.vstack((np.ones(len(t_set)), t_set[:,1], t_set[:,1]**2)).T, t_set[:,len(t_set[0])-1:len(t_set[0])]"
   ]
  },
  {
   "cell_type": "code",
   "execution_count": 111,
   "metadata": {},
   "outputs": [
    {
     "data": {
      "text/plain": [
       "array([[337.  , 118.  ,   4.  , ...,   4.5 ,   9.65,   1.  ],\n",
       "       [324.  , 107.  ,   4.  , ...,   4.5 ,   8.87,   1.  ],\n",
       "       [316.  , 104.  ,   3.  , ...,   3.5 ,   8.  ,   1.  ],\n",
       "       ...,\n",
       "       [329.  , 114.  ,   5.  , ...,   5.  ,   9.19,   1.  ],\n",
       "       [310.  , 104.  ,   3.  , ...,   3.5 ,   8.37,   0.  ],\n",
       "       [299.  , 100.  ,   1.  , ...,   2.  ,   7.89,   0.  ]])"
      ]
     },
     "execution_count": 111,
     "metadata": {},
     "output_type": "execute_result"
    }
   ],
   "source": [
    "#X[len(X[0])] = X[3]**2\n",
    "X"
   ]
  },
  {
   "cell_type": "code",
   "execution_count": 136,
   "metadata": {},
   "outputs": [],
   "source": [
    "m, n = X.shape"
   ]
  },
  {
   "cell_type": "code",
   "execution_count": 137,
   "metadata": {},
   "outputs": [],
   "source": [
    "#generacion de theta^0\n",
    "theta_0 = np.random.rand(n, 1)"
   ]
  },
  {
   "cell_type": "code",
   "execution_count": 157,
   "metadata": {},
   "outputs": [
    {
     "data": {
      "text/plain": [
       "array([[ 9.92962767e-01],\n",
       "       [-8.12889386e-04]])"
      ]
     },
     "execution_count": 157,
     "metadata": {},
     "output_type": "execute_result"
    }
   ],
   "source": [
    "theta"
   ]
  },
  {
   "cell_type": "code",
   "execution_count": 158,
   "metadata": {},
   "outputs": [],
   "source": [
    "theta = gradient_descent(\n",
    "    X,\n",
    "    y,\n",
    "    theta_0,\n",
    "    linear_cost_regular,\n",
    "    linear_cost_derivate_regular,\n",
    "    alpha=0.000000001,\n",
    "    threshold=0.001,\n",
    "    max_iter=10000,\n",
    "    lamda=10)"
   ]
  },
  {
   "cell_type": "code",
   "execution_count": 159,
   "metadata": {},
   "outputs": [],
   "source": [
    "#hip = X[:,1]*theta[1] + theta[0]"
   ]
  },
  {
   "cell_type": "code",
   "execution_count": 160,
   "metadata": {},
   "outputs": [
    {
     "data": {
      "image/png": "[encoded data removed]",
      "text/plain": [
       "<Figure size 432x288 with 1 Axes>"
      ]
     },
     "metadata": {
      "needs_background": "light"
     },
     "output_type": "display_data"
    }
   ],
   "source": [
    "plt.scatter(X[:, 1], y)\n",
    "\n",
    "plt.plot(X[:, 1], np.matmul(X, theta), color='red')\n",
    "\n",
    "plt.show()"
   ]
  },
  {
   "cell_type": "code",
   "execution_count": null,
   "metadata": {},
   "outputs": [],
   "source": []
  },
  {
   "cell_type": "code",
   "execution_count": 123,
   "metadata": {},
   "outputs": [
    {
     "data": {
      "text/plain": [
       "array([[10.34269735],\n",
       "       [ 8.61918684],\n",
       "       [ 7.29993824],\n",
       "       [ 7.8648954 ],\n",
       "       [ 6.15619945],\n",
       "       [ 9.09195788],\n",
       "       [ 8.33387083],\n",
       "       [ 6.66495577],\n",
       "       [ 5.6607398 ],\n",
       "       [ 6.8526859 ],\n",
       "       [ 7.70797447],\n",
       "       [ 9.23868258],\n",
       "       [ 9.42364022],\n",
       "       [ 8.53480604],\n",
       "       [ 6.84956754],\n",
       "       [ 6.36743268],\n",
       "       [ 7.15895415],\n",
       "       [ 7.22594116],\n",
       "       [ 7.70517472],\n",
       "       [ 6.97894089],\n",
       "       [ 7.08765248],\n",
       "       [ 7.0061576 ],\n",
       "       [10.80023858],\n",
       "       [10.78126297],\n",
       "       [10.02359573],\n",
       "       [10.47499472],\n",
       "       [ 7.61172056],\n",
       "       [ 6.29525271],\n",
       "       [ 4.2503985 ],\n",
       "       [ 4.40543774],\n",
       "       [ 6.81562293],\n",
       "       [ 7.00518535],\n",
       "       [10.00265994],\n",
       "       [ 9.04216634],\n",
       "       [10.02034313],\n",
       "       [10.0230423 ],\n",
       "       [ 8.55489106],\n",
       "       [ 6.4374992 ],\n",
       "       [ 5.80395196],\n",
       "       [ 7.61329205],\n",
       "       [ 8.61634922],\n",
       "       [ 6.95724808],\n",
       "       [ 7.40110927],\n",
       "       [ 8.93931962],\n",
       "       [ 9.65502708],\n",
       "       [ 9.19924243],\n",
       "       [10.16823252],\n",
       "       [ 9.2595227 ],\n",
       "       [ 9.62096997],\n",
       "       [ 8.44502655],\n",
       "       [ 7.20517026],\n",
       "       [ 6.66240935],\n",
       "       [ 8.07043993],\n",
       "       [ 7.74143102],\n",
       "       [ 7.14711214],\n",
       "       [ 5.49193362],\n",
       "       [ 5.29188967],\n",
       "       [ 5.55299978],\n",
       "       [ 5.66513244],\n",
       "       [ 5.96225882],\n",
       "       [ 5.92915982],\n",
       "       [ 6.3731055 ],\n",
       "       [ 8.07325818],\n",
       "       [ 8.00653414],\n",
       "       [ 7.61368372],\n",
       "       [ 7.97651538],\n",
       "       [ 7.93225341],\n",
       "       [ 8.31684794],\n",
       "       [ 9.25683951],\n",
       "       [ 9.72778739],\n",
       "       [11.00138122],\n",
       "       [ 9.74382409],\n",
       "       [10.31036053],\n",
       "       [ 9.27627759],\n",
       "       [ 8.49166007],\n",
       "       [ 8.90413447],\n",
       "       [ 8.21939894],\n",
       "       [ 5.71399943],\n",
       "       [ 5.70013958],\n",
       "       [ 4.38832326],\n",
       "       [ 7.36566093],\n",
       "       [10.75889667],\n",
       "       [ 9.72282484],\n",
       "       [10.52334214],\n",
       "       [ 9.46947682],\n",
       "       [ 6.6272406 ],\n",
       "       [ 7.26411762],\n",
       "       [ 6.84027317],\n",
       "       [ 7.49822165],\n",
       "       [ 8.82414201],\n",
       "       [ 7.86609685],\n",
       "       [ 6.17760889],\n",
       "       [ 6.29353306],\n",
       "       [ 6.60157986],\n",
       "       [ 5.44443947],\n",
       "       [ 5.64571262],\n",
       "       [ 6.05266205],\n",
       "       [10.27064995],\n",
       "       [10.59828832],\n",
       "       [ 9.46295107],\n",
       "       [ 7.80742726],\n",
       "       [ 6.61904851],\n",
       "       [ 7.17995182],\n",
       "       [ 7.12611474],\n",
       "       [ 8.54368051],\n",
       "       [ 9.61408128],\n",
       "       [ 9.26886094],\n",
       "       [ 9.89814679],\n",
       "       [10.52660749],\n",
       "       [ 7.91824251],\n",
       "       [ 7.87987363],\n",
       "       [ 8.72867012],\n",
       "       [ 9.06773715],\n",
       "       [ 7.73053763],\n",
       "       [ 7.82853105],\n",
       "       [ 9.48453703],\n",
       "       [ 7.6655258 ],\n",
       "       [ 7.03889797],\n",
       "       [ 6.33370739],\n",
       "       [ 7.16389577],\n",
       "       [10.57441482],\n",
       "       [10.59596004],\n",
       "       [ 6.70086618],\n",
       "       [ 7.86595106],\n",
       "       [ 7.73537216],\n",
       "       [ 7.66621262],\n",
       "       [ 9.13547772],\n",
       "       [ 8.06098342],\n",
       "       [ 8.5778007 ],\n",
       "       [10.73956988],\n",
       "       [ 9.52913071],\n",
       "       [ 8.66410921],\n",
       "       [ 7.48595433],\n",
       "       [ 8.66860965],\n",
       "       [ 9.09056508],\n",
       "       [ 9.20231185],\n",
       "       [ 7.28347758],\n",
       "       [ 6.270312  ],\n",
       "       [ 9.36012936],\n",
       "       [ 8.02780944],\n",
       "       [ 8.09719216],\n",
       "       [ 9.84284566],\n",
       "       [ 9.37497552],\n",
       "       [10.38260117],\n",
       "       [ 8.82797256],\n",
       "       [ 8.4117266 ],\n",
       "       [ 6.32082895],\n",
       "       [ 8.91071359],\n",
       "       [ 9.29306146],\n",
       "       [ 7.8826085 ],\n",
       "       [ 9.31274566],\n",
       "       [10.39445289],\n",
       "       [10.22485447],\n",
       "       [ 6.94179488],\n",
       "       [ 7.13753187],\n",
       "       [ 7.76261593],\n",
       "       [ 6.22529241],\n",
       "       [ 6.37665661],\n",
       "       [ 6.84777369],\n",
       "       [ 5.82949898],\n",
       "       [ 5.19364147],\n",
       "       [ 5.91242665],\n",
       "       [ 7.24947394],\n",
       "       [ 6.66698061],\n",
       "       [ 8.83898674],\n",
       "       [ 8.22222622],\n",
       "       [ 8.18230856],\n",
       "       [ 6.07732369],\n",
       "       [ 7.61568412],\n",
       "       [ 5.5036374 ],\n",
       "       [ 7.00892551],\n",
       "       [ 9.91973743],\n",
       "       [ 9.78020019],\n",
       "       [10.01255523],\n",
       "       [ 9.28783018],\n",
       "       [ 9.00481254],\n",
       "       [10.70026456],\n",
       "       [ 8.08372891],\n",
       "       [ 7.34958279],\n",
       "       [ 6.53115709],\n",
       "       [ 7.29992911],\n",
       "       [ 7.31856653],\n",
       "       [ 6.73203857],\n",
       "       [ 8.58856262],\n",
       "       [ 7.30823499],\n",
       "       [ 9.71018401],\n",
       "       [ 7.96326162],\n",
       "       [ 9.69638715],\n",
       "       [ 9.35555728],\n",
       "       [10.04675992],\n",
       "       [ 9.25781563],\n",
       "       [ 9.61082267],\n",
       "       [ 9.77740958],\n",
       "       [10.63548588],\n",
       "       [ 7.58990144],\n",
       "       [ 8.77501327],\n",
       "       [ 6.81937885],\n",
       "       [ 6.82729583],\n",
       "       [ 7.79306663],\n",
       "       [ 8.34938354],\n",
       "       [ 7.07485108],\n",
       "       [ 8.4859583 ],\n",
       "       [10.68653993],\n",
       "       [11.32142048],\n",
       "       [ 8.49543354],\n",
       "       [ 6.30107143],\n",
       "       [ 5.25691236],\n",
       "       [ 7.68484825],\n",
       "       [ 7.30954966],\n",
       "       [ 8.68957944],\n",
       "       [ 8.58686938],\n",
       "       [ 8.84615607],\n",
       "       [10.99590971],\n",
       "       [10.89976949],\n",
       "       [10.70246377],\n",
       "       [10.26300809],\n",
       "       [ 9.95148417],\n",
       "       [ 9.03575188],\n",
       "       [ 8.53124241],\n",
       "       [ 7.02424917],\n",
       "       [ 7.35393639],\n",
       "       [ 8.26178319],\n",
       "       [ 8.51656222],\n",
       "       [ 8.48532962],\n",
       "       [ 6.54895541],\n",
       "       [ 6.18260518],\n",
       "       [ 8.82896357],\n",
       "       [ 7.87233957],\n",
       "       [ 8.29159067],\n",
       "       [ 8.4253045 ],\n",
       "       [ 7.780193  ],\n",
       "       [ 7.10209485],\n",
       "       [ 7.39653755],\n",
       "       [ 6.5069502 ],\n",
       "       [ 9.37312797],\n",
       "       [ 9.17775549],\n",
       "       [ 9.66315112],\n",
       "       [10.12834216],\n",
       "       [ 7.01243516],\n",
       "       [ 5.69484653]])"
      ]
     },
     "execution_count": 123,
     "metadata": {},
     "output_type": "execute_result"
    }
   ],
   "source": [
    "np.matmul(X, theta)"
   ]
  },
  {
   "cell_type": "code",
   "execution_count": 38,
   "metadata": {},
   "outputs": [
    {
     "data": {
      "text/plain": [
       "array([[0.67494943],\n",
       "       [0.04195217]])"
      ]
     },
     "execution_count": 38,
     "metadata": {},
     "output_type": "execute_result"
    }
   ],
   "source": [
    "theta"
   ]
  },
  {
   "cell_type": "code",
   "execution_count": null,
   "metadata": {},
   "outputs": [],
   "source": []
  }
 ],
 "metadata": {
  "kernelspec": {
   "display_name": "Python 3",
   "language": "python",
   "name": "python3"
  },
  "language_info": {
   "codemirror_mode": {
    "name": "ipython",
    "version": 3
   },
   "file_extension": ".py",
   "mimetype": "text/x-python",
   "name": "python",
   "nbconvert_exporter": "python",
   "pygments_lexer": "ipython3",
   "version": "3.7.2"
  }
 },
 "nbformat": 4,
 "nbformat_minor": 2
}
