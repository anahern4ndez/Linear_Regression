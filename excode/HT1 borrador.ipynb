{
 "cells": [
  {
   "cell_type": "code",
   "execution_count": 21,
   "metadata": {},
   "outputs": [],
   "source": [
    "import numpy as np"
   ]
  },
  {
   "cell_type": "code",
   "execution_count": 22,
   "metadata": {},
   "outputs": [],
   "source": [
    "from module import *"
   ]
  },
  {
   "cell_type": "code",
   "execution_count": 23,
   "metadata": {},
   "outputs": [],
   "source": [
    "from matplotlib import pyplot as plt"
   ]
  },
  {
   "cell_type": "code",
   "execution_count": 93,
   "metadata": {},
   "outputs": [],
   "source": [
    "data = np.loadtxt('Admission_Predict.csv',delimiter=\",\", skiprows=1)"
   ]
  },
  {
   "cell_type": "code",
   "execution_count": 94,
   "metadata": {},
   "outputs": [],
   "source": [
    "#normalización de data \n",
    "norm_t_set = np.array([np.zeros(len(data))])\n",
    "for arr in data.T:\n",
    "    norm_tuple = []\n",
    "    for index in range(len(arr)):\n",
    "        norm_tuple.append((arr[index] - arr.min())/ (arr.max()- arr.min()))\n",
    "    norm_t_set = np.vstack((norm_t_set, np.array(norm_tuple)))\n",
    "data = norm_t_set[1:,]\n",
    "data = data.T"
   ]
  },
  {
   "cell_type": "code",
   "execution_count": 95,
   "metadata": {},
   "outputs": [],
   "source": [
    "#training set\n",
    "t_set = data[:240,1:]\n",
    "#cross validation set\n",
    "cv_set = data[240:320,1:] \n",
    "#test set\n",
    "test = data[320:,1:]"
   ]
  },
  {
   "cell_type": "code",
   "execution_count": 236,
   "metadata": {},
   "outputs": [],
   "source": []
  },
  {
   "cell_type": "code",
   "execution_count": null,
   "metadata": {},
   "outputs": [],
   "source": []
  },
  {
   "cell_type": "code",
   "execution_count": 96,
   "metadata": {},
   "outputs": [],
   "source": [
    "#slice de data entre matriz de features y vector de variable a predecir\n",
    "X = np.vstack((\n",
    "    np.ones(len(t_set)),\n",
    "    t_set[:,].T\n",
    ")).T\n",
    "\n",
    "y = t_set[:,len(t_set[0])-1:len(t_set[0])]"
   ]
  },
  {
   "cell_type": "code",
   "execution_count": null,
   "metadata": {},
   "outputs": [],
   "source": []
  },
  {
   "cell_type": "code",
   "execution_count": 97,
   "metadata": {},
   "outputs": [
    {
     "data": {
      "text/plain": [
       "(240, 9)"
      ]
     },
     "execution_count": 97,
     "metadata": {},
     "output_type": "execute_result"
    }
   ],
   "source": [
    "m, n = X.shape\n",
    "X.shape"
   ]
  },
  {
   "cell_type": "code",
   "execution_count": 98,
   "metadata": {},
   "outputs": [],
   "source": [
    "#Después de múltiples generaciones random, se encontró que theta_0 que brindaba los mejores resultados, era:\n",
    "#theta_0 = np.random.rand(n, 1)\n",
    "theta_0 = np.array([\n",
    " [-0.06706054],\n",
    " [ 0.21327747],\n",
    " [-0.19349977],\n",
    " [ 0.10454866],\n",
    " [-0.06015129],\n",
    " [ 0.28915204],\n",
    " [ 0.27315269],\n",
    " [-0.00179598],\n",
    " [ 0.50185317]])"
   ]
  },
  {
   "cell_type": "code",
   "execution_count": 99,
   "metadata": {},
   "outputs": [
    {
     "data": {
      "text/plain": [
       "(9, 1)"
      ]
     },
     "execution_count": 99,
     "metadata": {},
     "output_type": "execute_result"
    }
   ],
   "source": [
    "theta_0.shape"
   ]
  },
  {
   "cell_type": "code",
   "execution_count": 31,
   "metadata": {},
   "outputs": [],
   "source": [
    "theta, costs, gradient_norms = gradient_descent(\n",
    "    X,\n",
    "    y,\n",
    "    theta_0,\n",
    "    linear_cost_regular,\n",
    "    linear_cost_derivate_regular,\n",
    "    alpha=0.0001,\n",
    "    threshold=0.001,\n",
    "    max_iter=30000,\n",
    "    lamda=0)"
   ]
  },
  {
   "cell_type": "code",
   "execution_count": 32,
   "metadata": {},
   "outputs": [
    {
     "data": {
      "text/plain": [
       "0.9157459599835907"
      ]
     },
     "execution_count": 32,
     "metadata": {},
     "output_type": "execute_result"
    }
   ],
   "source": [
    "#Cálculo de coeficiente de regresión (R^2)\n",
    "r2 = (((y-y.mean())**2).sum()-((np.matmul(X, theta)-y)**2).sum())/((y-y.mean())**2).sum()\n",
    "r2"
   ]
  },
  {
   "cell_type": "code",
   "execution_count": 33,
   "metadata": {},
   "outputs": [
    {
     "data": {
      "image/png": "[encoded data removed]",
      "text/plain": [
       "<Figure size 432x288 with 1 Axes>"
      ]
     },
     "metadata": {
      "needs_background": "light"
     },
     "output_type": "display_data"
    }
   ],
   "source": [
    "plt.scatter(X[:, 1], y)\n",
    "\n",
    "plt.scatter(X[:, 1], np.matmul(X, theta), color='red')\n",
    "\n",
    "plt.show()"
   ]
  },
  {
   "cell_type": "code",
   "execution_count": null,
   "metadata": {},
   "outputs": [],
   "source": []
  },
  {
   "cell_type": "markdown",
   "metadata": {},
   "source": [
    "### Cross-Validation\n",
    "Después de obtener el theta que mejor resultados brinda, se realizan las pruebas con el cross-validation set para tunear de mejor manera el modelo. "
   ]
  },
  {
   "cell_type": "code",
   "execution_count": 34,
   "metadata": {},
   "outputs": [
    {
     "data": {
      "text/plain": [
       "(80, 8)"
      ]
     },
     "execution_count": 34,
     "metadata": {},
     "output_type": "execute_result"
    }
   ],
   "source": [
    "cv_set.shape"
   ]
  },
  {
   "cell_type": "code",
   "execution_count": 35,
   "metadata": {},
   "outputs": [],
   "source": [
    "cv_x = np.vstack((\n",
    "    np.ones(len(cv_set)),\n",
    "    cv_set[:,].T\n",
    ")).T\n",
    "\n",
    "cv_y = cv_set[:, 7]"
   ]
  },
  {
   "cell_type": "code",
   "execution_count": null,
   "metadata": {},
   "outputs": [],
   "source": [
    "theta, costs, gradient_norms = gradient_descent(\n",
    "    cv_x,\n",
    "    cv_y,\n",
    "    theta_0,\n",
    "    linear_cost_regular,\n",
    "    linear_cost_derivate_regular,\n",
    "    alpha=0.0001,\n",
    "    threshold=0.001,\n",
    "    max_iter=30000,\n",
    "    lamda=0)"
   ]
  },
  {
   "cell_type": "code",
   "execution_count": 36,
   "metadata": {},
   "outputs": [
    {
     "data": {
      "image/png": "[encoded data removed]",
      "text/plain": [
       "<Figure size 432x288 with 1 Axes>"
      ]
     },
     "metadata": {
      "needs_background": "light"
     },
     "output_type": "display_data"
    }
   ],
   "source": [
    "plt.scatter(cv_x[:, 1], cv_y)\n",
    "plt.scatter(cv_x[:, 1], np.matmul(cv_x, theta), color='red')\n",
    "plt.show()"
   ]
  },
  {
   "cell_type": "code",
   "execution_count": 37,
   "metadata": {},
   "outputs": [
    {
     "data": {
      "text/plain": [
       "0.8867489594770641"
      ]
     },
     "execution_count": 37,
     "metadata": {},
     "output_type": "execute_result"
    }
   ],
   "source": [
    "#Cálculo de coeficiente de regresión (R^2)\n",
    "cv_y = cv_set[:,len(cv_set[0])-1:len(cv_set[0])]\n",
    "r2 = (((cv_y-cv_y.mean())**2).sum()-((np.matmul(cv_x, theta)-cv_y)**2).sum())/((cv_y-cv_y.mean())**2).sum()\n",
    "r2"
   ]
  },
  {
   "cell_type": "code",
   "execution_count": 38,
   "metadata": {},
   "outputs": [
    {
     "data": {
      "text/plain": [
       "0.0030199162867398568"
      ]
     },
     "execution_count": 38,
     "metadata": {},
     "output_type": "execute_result"
    }
   ],
   "source": [
    "#Error Cuadrático Medio\n",
    "\n",
    "ecm = (1/len(cv_set))*((np.matmul(cv_x, theta)-cv_y)**2).sum()\n",
    "ecm"
   ]
  },
  {
   "cell_type": "markdown",
   "metadata": {},
   "source": [
    "### Gráficas de costo\n",
    "\n",
    "Con los resultados de R^2 y el Error Cuadrático Medio obtenidos previamente se puede observar que el modelo funciona bastante bien con el set de datos de cross validation. Aún así, se presentarán las gráficas de costo vs. complejidad del modelo y costo vs. lambda para observar si es posible encontrar un mejor modelo. Se definirá como complejidad a la cantidad de features incluídas en el modelo, hasta ahora se ha trabajado con una complejidad de 7. "
   ]
  },
  {
   "cell_type": "code",
   "execution_count": 78,
   "metadata": {},
   "outputs": [],
   "source": [
    "#iteración para obtener costo con distintos valores de lambda\n",
    "\n",
    "#costos para datos de training\n",
    "t_ecm = np.array([])\n",
    "t_lamdas = np.linspace(-15, 30, 15)\n",
    "\n",
    "for l in t_lamdas:\n",
    "    theta, costs, gradient_norms = gradient_descent(\n",
    "        X,\n",
    "        y,\n",
    "        theta_0,\n",
    "        linear_cost_regular,\n",
    "        linear_cost_derivate_regular,\n",
    "        alpha=0.0001,\n",
    "        threshold=0.001,\n",
    "        max_iter=30000,\n",
    "        lamda=l)\n",
    "    ecm = (1/len(t_set))*((np.matmul(X, theta)-y)**2).sum()\n",
    "    t_ecm = np.append(t_ecm, ecm)"
   ]
  },
  {
   "cell_type": "code",
   "execution_count": 79,
   "metadata": {},
   "outputs": [],
   "source": [
    "#costos para datos de cross validation\n",
    "cv_ecm = np.array([])\n",
    "cv_lamdas = np.linspace(-15, 30, 15)\n",
    "\n",
    "for l in cv_lamdas:\n",
    "    theta, costs, gradient_norms = gradient_descent(\n",
    "        cv_x,\n",
    "        cv_y,\n",
    "        theta_0,\n",
    "        linear_cost_regular,\n",
    "        linear_cost_derivate_regular,\n",
    "        alpha=0.0001,\n",
    "        threshold=0.001,\n",
    "        max_iter=30000,\n",
    "        lamda=l)\n",
    "    ecm = (1/len(cv_set))*((np.matmul(cv_x, theta)-cv_y)**2).sum()\n",
    "    cv_ecm = np.append(cv_ecm, ecm)"
   ]
  },
  {
   "cell_type": "code",
   "execution_count": 80,
   "metadata": {},
   "outputs": [
    {
     "data": {
      "image/png": "[encoded data removed]",
      "text/plain": [
       "<Figure size 432x288 with 1 Axes>"
      ]
     },
     "metadata": {
      "needs_background": "light"
     },
     "output_type": "display_data"
    }
   ],
   "source": [
    "plt.scatter(t_lamdas, t_ecm, color='green')\n",
    "plt.scatter(cv_lamdas, cv_ecm, color='orange')\n",
    "plt.show()"
   ]
  },
  {
   "cell_type": "markdown",
   "metadata": {},
   "source": [
    "#### Se volverán a realizar las gráficas anteriores para poder observar de mejor manera cuál es el lambda más óptimo: "
   ]
  },
  {
   "cell_type": "code",
   "execution_count": 81,
   "metadata": {},
   "outputs": [],
   "source": [
    "#costos para datos de training\n",
    "t_ecm = np.array([])\n",
    "t_lamdas = np.linspace(0, 8, 10)\n",
    "\n",
    "for l in t_lamdas:\n",
    "    theta, costs, gradient_norms = gradient_descent(\n",
    "        X,\n",
    "        y,\n",
    "        theta_0,\n",
    "        linear_cost_regular,\n",
    "        linear_cost_derivate_regular,\n",
    "        alpha=0.0001,\n",
    "        threshold=0.001,\n",
    "        max_iter=30000,\n",
    "        lamda=l)\n",
    "    ecm = (1/len(t_set))*((np.matmul(X, theta)-y)**2).sum()\n",
    "    t_ecm = np.append(t_ecm, ecm)"
   ]
  },
  {
   "cell_type": "code",
   "execution_count": 82,
   "metadata": {},
   "outputs": [],
   "source": [
    "#costos para datos de cross validation\n",
    "cv_ecm = np.array([])\n",
    "cv_lamdas = np.linspace(0, 8, 10)\n",
    "\n",
    "for l in cv_lamdas:\n",
    "    theta, costs, gradient_norms = gradient_descent(\n",
    "        cv_x,\n",
    "        cv_y,\n",
    "        theta_0,\n",
    "        linear_cost_regular,\n",
    "        linear_cost_derivate_regular,\n",
    "        alpha=0.0001,\n",
    "        threshold=0.001,\n",
    "        max_iter=30000,\n",
    "        lamda=l)\n",
    "    ecm = (1/len(cv_set))*((np.matmul(cv_x, theta)-cv_y)**2).sum()\n",
    "    cv_ecm = np.append(cv_ecm, ecm)"
   ]
  },
  {
   "cell_type": "code",
   "execution_count": 83,
   "metadata": {},
   "outputs": [
    {
     "data": {
      "image/png": "[encoded data removed]",
      "text/plain": [
       "<Figure size 432x288 with 1 Axes>"
      ]
     },
     "metadata": {
      "needs_background": "light"
     },
     "output_type": "display_data"
    }
   ],
   "source": [
    "plt.scatter(t_lamdas, t_ecm, color='green')\n",
    "plt.scatter(cv_lamdas, cv_ecm, color='orange')\n",
    "plt.show()"
   ]
  },
  {
   "cell_type": "markdown",
   "metadata": {},
   "source": [
    "El mejor valor de lambda es aproximadamente 3.5. Veamos si usando este lambda se logra mejorar el R^2 y el ECM calculado la primera vez:\n"
   ]
  },
  {
   "cell_type": "code",
   "execution_count": 108,
   "metadata": {},
   "outputs": [],
   "source": [
    "theta, costs, gradient_norms = gradient_descent(\n",
    "    cv_x,\n",
    "    cv_y,\n",
    "    theta_0,\n",
    "    linear_cost_regular,\n",
    "    linear_cost_derivate_regular,\n",
    "    alpha=0.0001,\n",
    "    threshold=0.001,\n",
    "    max_iter=30000,\n",
    "    lamda=5)"
   ]
  },
  {
   "cell_type": "code",
   "execution_count": 109,
   "metadata": {},
   "outputs": [
    {
     "data": {
      "image/png": "[encoded data removed]",
      "text/plain": [
       "<Figure size 432x288 with 1 Axes>"
      ]
     },
     "metadata": {
      "needs_background": "light"
     },
     "output_type": "display_data"
    }
   ],
   "source": [
    "plt.scatter(cv_x[:, 1], cv_y)\n",
    "plt.scatter(cv_x[:, 1], np.matmul(cv_x, theta), color='red')\n",
    "plt.show()"
   ]
  },
  {
   "cell_type": "code",
   "execution_count": 110,
   "metadata": {},
   "outputs": [
    {
     "data": {
      "text/plain": [
       "0.6236818413683034"
      ]
     },
     "execution_count": 110,
     "metadata": {},
     "output_type": "execute_result"
    }
   ],
   "source": [
    "#Cálculo de coeficiente de regresión (R^2)\n",
    "cv_y = cv_set[:,len(cv_set[0])-1:len(cv_set[0])]\n",
    "r2 = (((cv_y-cv_y.mean())**2).sum()-((np.matmul(cv_x, theta)-cv_y)**2).sum())/((cv_y-cv_y.mean())**2).sum()\n",
    "r2"
   ]
  },
  {
   "cell_type": "code",
   "execution_count": 111,
   "metadata": {},
   "outputs": [
    {
     "data": {
      "text/plain": [
       "0.010034780528287136"
      ]
     },
     "execution_count": 111,
     "metadata": {},
     "output_type": "execute_result"
    }
   ],
   "source": [
    "#Error Cuadrático Medio\n",
    "\n",
    "ecm = (1/len(cv_set))*((np.matmul(cv_x, theta)-cv_y)**2).sum()\n",
    "ecm"
   ]
  },
  {
   "cell_type": "code",
   "execution_count": 112,
   "metadata": {},
   "outputs": [
    {
     "name": "stdout",
     "output_type": "stream",
     "text": [
      "9 1\n"
     ]
    }
   ],
   "source": [
    "print(len(cv_x[0]), len(cv_y[0]))"
   ]
  },
  {
   "cell_type": "code",
   "execution_count": null,
   "metadata": {},
   "outputs": [],
   "source": []
  }
 ],
 "metadata": {
  "kernelspec": {
   "display_name": "Python 3",
   "language": "python",
   "name": "python3"
  },
  "language_info": {
   "codemirror_mode": {
    "name": "ipython",
    "version": 3
   },
   "file_extension": ".py",
   "mimetype": "text/x-python",
   "name": "python",
   "nbconvert_exporter": "python",
   "pygments_lexer": "ipython3",
   "version": "3.7.2"
  }
 },
 "nbformat": 4,
 "nbformat_minor": 2
}
